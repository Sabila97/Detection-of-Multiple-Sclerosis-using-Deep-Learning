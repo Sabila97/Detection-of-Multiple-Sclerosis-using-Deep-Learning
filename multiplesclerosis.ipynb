{
  "nbformat": 4,
  "nbformat_minor": 0,
  "metadata": {
    "kernelspec": {
      "display_name": "Python 3",
      "language": "python",
      "name": "python3"
    },
    "language_info": {
      "codemirror_mode": {
        "name": "ipython",
        "version": 3
      },
      "file_extension": ".py",
      "mimetype": "text/x-python",
      "name": "python",
      "nbconvert_exporter": "python",
      "pygments_lexer": "ipython3",
      "version": "3.8.5"
    },
    "colab": {
      "name": "multiplesclerosis.ipynb",
      "provenance": [],
      "include_colab_link": true
    }
  },
  "cells": [
    {
      "cell_type": "markdown",
      "metadata": {
        "id": "view-in-github",
        "colab_type": "text"
      },
      "source": [
        "<a href=\"https://colab.research.google.com/github/Sabila97/Detection-of-Multiple-Sclerosis-using-Deep-Learning/blob/main/multiplesclerosis.ipynb\" target=\"_parent\"><img src=\"https://colab.research.google.com/assets/colab-badge.svg\" alt=\"Open In Colab\"/></a>"
      ]
    },
    {
      "cell_type": "code",
      "metadata": {
        "id": "iq-piZojRbVz",
        "outputId": "e70b6dfa-5f3a-4219-dce2-798037259e2a"
      },
      "source": [
        "!pip install imutils\n",
        "# import the necessary packages\n",
        "from tensorflow.keras.preprocessing.image import ImageDataGenerator\n",
        "from tensorflow.keras.applications import VGG16\n",
        "from tensorflow.keras.layers import AveragePooling2D\n",
        "from tensorflow.keras.layers import Dropout\n",
        "from tensorflow.keras.layers import Flatten\n",
        "from tensorflow.keras.layers import Dense\n",
        "from tensorflow.keras.layers import Input\n",
        "from tensorflow.keras.models import Model\n",
        "from tensorflow.keras.optimizers import Adam\n",
        "from tensorflow.keras.utils import to_categorical\n",
        "from sklearn.preprocessing import LabelBinarizer\n",
        "from sklearn.model_selection import train_test_split\n",
        "from sklearn.metrics import classification_report\n",
        "from sklearn.metrics import confusion_matrix\n",
        "from imutils import paths\n",
        "from tensorflow.keras.models import load_model\n",
        "from glob import glob\n",
        "import matplotlib.pyplot as plt\n",
        "import numpy as np\n",
        "import argparse\n",
        "import cv2\n",
        "import os"
      ],
      "execution_count": null,
      "outputs": [
        {
          "output_type": "stream",
          "text": [
            "Requirement already satisfied: imutils in c:\\users\\17101129\\anaconda3\\lib\\site-packages (0.5.3)\n"
          ],
          "name": "stdout"
        }
      ]
    },
    {
      "cell_type": "code",
      "metadata": {
        "id": "IV0m0OvIRbV5"
      },
      "source": [
        "dataset=\"/Users/17101129/Downloads/dataset/train_images\"\n",
        "imagePaths = list(paths.list_images(dataset))\n",
        "#print(imagePaths)\n",
        "data = []\n",
        "labels = []\n",
        "#img_rows, img_cols = 200, 200\n",
        "\n",
        "# loop over the image paths\n",
        "for imagePath in imagePaths:\n",
        "    # extract the class label from the filename\n",
        "    label = imagePath.split(os.path.sep)[-2]\n",
        "    # load the image, swap color channels, and resize it to be a fixed\n",
        "    # 224x224 pixels while ignoring aspect ratio\n",
        "    image = cv2.imread(imagePath)\n",
        "    image = cv2.cvtColor(image, cv2.COLOR_BGR2RGB)\n",
        "    image = cv2.resize(image, (224, 224))\n",
        "    \n",
        "    # update the data and labels lists, respectively\n",
        "    data.append(image)\n",
        "    labels.append(label)\n",
        "\n",
        "# convert the data and labels to NumPy arrays while scaling the pixel\n",
        "# intensities to the range [0, 255]\n",
        "data = np.array(data) / 255.0\n",
        "labels = np.array(labels)"
      ],
      "execution_count": null,
      "outputs": []
    },
    {
      "cell_type": "code",
      "metadata": {
        "id": "qaQd71YyRbV6",
        "outputId": "8d79c85d-c5b7-44d1-db09-c566ad3fe881"
      },
      "source": [
        "print(\"...Number of images we have got: \"+str(len(data)))\n",
        "# perform one-hot encoding on the labels\n",
        "lb = LabelBinarizer()\n",
        "labels = lb.fit_transform(labels)\n",
        "#labels = to_categorical(labels)"
      ],
      "execution_count": null,
      "outputs": [
        {
          "output_type": "stream",
          "text": [
            "...Number of images we have got: 3766\n"
          ],
          "name": "stdout"
        }
      ]
    },
    {
      "cell_type": "code",
      "metadata": {
        "id": "OfuqCtx2RbV7",
        "outputId": "c4928106-29ab-4790-bb01-cadbcbb189c0"
      },
      "source": [
        "labels"
      ],
      "execution_count": null,
      "outputs": [
        {
          "output_type": "execute_result",
          "data": {
            "text/plain": [
              "array([[1, 0, 0, 0],\n",
              "       [1, 0, 0, 0],\n",
              "       [1, 0, 0, 0],\n",
              "       ...,\n",
              "       [0, 0, 0, 1],\n",
              "       [0, 0, 0, 1],\n",
              "       [0, 0, 0, 1]])"
            ]
          },
          "metadata": {
            "tags": []
          },
          "execution_count": 74
        }
      ]
    },
    {
      "cell_type": "code",
      "metadata": {
        "id": "PGrNCgOnRbV8"
      },
      "source": [
        "# partition the data into training and testing splits using 80% of\n",
        "# the data for training and the remaining 20% for testing\n",
        "(trainX, testX, trainY, testY) = train_test_split(data, labels,test_size=0.25, stratify=labels, random_state=42,shuffle=True)\n",
        "\n",
        "# initialize the training data augmentation object\n",
        "trainAug = ImageDataGenerator(\n",
        "    rotation_range=15,\n",
        "    fill_mode=\"nearest\")"
      ],
      "execution_count": null,
      "outputs": []
    },
    {
      "cell_type": "code",
      "metadata": {
        "id": "l4E-Ht28RbV8"
      },
      "source": [
        "valAug = ImageDataGenerator()\n",
        "\n",
        "# define the ImageNet mean subtraction (in RGB order) and set the\n",
        "# the mean subtraction value for each of the data augmentation\n",
        "# objects\n",
        "mean = np.array([123.68, 116.779, 103.939], dtype=\"float32\")\n",
        "trainAug.mean = mean\n",
        "valAug.mean = mean"
      ],
      "execution_count": null,
      "outputs": []
    },
    {
      "cell_type": "code",
      "metadata": {
        "id": "BIfLd9SyRbV9"
      },
      "source": [
        "# load the VGG16 network, ensuring the head FC layer sets are left\n",
        "# off\n",
        "baseModel = VGG16(weights=\"imagenet\", include_top=False,\n",
        "                  input_tensor=Input(shape=(224, 224, 3)))\n",
        "\n",
        "# construct the head of the model that will be placed on top of the\n",
        "# the base model\n",
        "headModel = baseModel.output\n",
        "headModel = AveragePooling2D(pool_size=(4, 4))(headModel)\n",
        "headModel = Flatten(name=\"flatten\")(headModel)\n",
        "headModel = Dense(64, activation=\"relu\")(headModel)\n",
        "headModel = Dropout(0.2)(headModel)\n",
        "headModel = Dense(30, activation=\"relu\")(headModel)\n",
        "headModel = Dropout(0.2)(headModel)\n",
        "headModel = Dense(4, activation=\"softmax\")(headModel)\n",
        "\n",
        "# place the head FC model on top of the base model (this will become\n",
        "# the actual model we will train)\n",
        "model = Model(inputs=baseModel.input, outputs=headModel)"
      ],
      "execution_count": null,
      "outputs": []
    },
    {
      "cell_type": "code",
      "metadata": {
        "id": "hGJgga1URbV-"
      },
      "source": [
        "# initialize the initial learning rate, number of epochs to train for,\n",
        "# and batch size\n",
        "INIT_LR = 1e-3\n",
        "EPOCHS = 20\n",
        "BS = 2"
      ],
      "execution_count": null,
      "outputs": []
    },
    {
      "cell_type": "code",
      "metadata": {
        "id": "bzDl8qv6RbV-",
        "outputId": "64202ec6-bc27-49b9-df51-fe6de27bb403"
      },
      "source": [
        "# loop over all layers in the base model and freeze them so they will\n",
        "# *not* be updated during the first training process\n",
        "for layer in baseModel.layers:\n",
        "    layer.trainable = False\n",
        "\n",
        "# compile our model\n",
        "print(\"[INFO] compiling model...\")\n",
        "opt = Adam(lr=INIT_LR, decay=INIT_LR / EPOCHS)\n",
        "model.compile(loss=\"categorical_crossentropy\", optimizer=opt,\n",
        "              metrics=[\"accuracy\"])"
      ],
      "execution_count": null,
      "outputs": [
        {
          "output_type": "stream",
          "text": [
            "[INFO] compiling model...\n"
          ],
          "name": "stdout"
        }
      ]
    },
    {
      "cell_type": "code",
      "metadata": {
        "id": "0Z3LNTyGRbV_",
        "outputId": "8c426618-f357-4bdb-98c0-de6fa2b58167"
      },
      "source": [
        "\n",
        "# train the head of the network\n",
        "print(\"[INFO] training head...\")\n",
        "H = model.fit_generator(\n",
        "    trainAug.flow(trainX, trainY, batch_size=BS),\n",
        "    steps_per_epoch=len(trainX) // BS,\n",
        "    validation_data=(testX, testY),\n",
        "    validation_steps=len(testX) // BS,\n",
        "    epochs=EPOCHS)"
      ],
      "execution_count": null,
      "outputs": [
        {
          "output_type": "stream",
          "text": [
            "[INFO] training head...\n"
          ],
          "name": "stdout"
        },
        {
          "output_type": "stream",
          "text": [
            "C:\\Users\\17101129\\Anaconda3\\lib\\site-packages\\tensorflow\\python\\keras\\engine\\training.py:1844: UserWarning: `Model.fit_generator` is deprecated and will be removed in a future version. Please use `Model.fit`, which supports generators.\n",
            "  warnings.warn('`Model.fit_generator` is deprecated and '\n"
          ],
          "name": "stderr"
        },
        {
          "output_type": "stream",
          "text": [
            "Epoch 1/20\n",
            "1412/1412 [==============================] - 406s 286ms/step - loss: 0.9716 - accuracy: 0.6470 - val_loss: 0.6283 - val_accuracy: 0.7739\n",
            "Epoch 2/20\n",
            "1412/1412 [==============================] - 407s 288ms/step - loss: 0.6364 - accuracy: 0.7518 - val_loss: 0.4871 - val_accuracy: 0.8238\n",
            "Epoch 3/20\n",
            "1412/1412 [==============================] - 403s 286ms/step - loss: 0.4573 - accuracy: 0.8336 - val_loss: 0.3442 - val_accuracy: 0.8747\n",
            "Epoch 4/20\n",
            "1412/1412 [==============================] - 403s 285ms/step - loss: 0.3241 - accuracy: 0.8803 - val_loss: 0.2025 - val_accuracy: 0.9299\n",
            "Epoch 5/20\n",
            "1412/1412 [==============================] - 403s 285ms/step - loss: 0.2530 - accuracy: 0.8991 - val_loss: 0.1680 - val_accuracy: 0.9374\n",
            "Epoch 6/20\n",
            "1412/1412 [==============================] - 406s 288ms/step - loss: 0.2167 - accuracy: 0.9231 - val_loss: 0.1244 - val_accuracy: 0.9586\n",
            "Epoch 7/20\n",
            "1412/1412 [==============================] - 404s 286ms/step - loss: 0.1769 - accuracy: 0.9346 - val_loss: 0.2466 - val_accuracy: 0.9193\n",
            "Epoch 8/20\n",
            "1412/1412 [==============================] - 406s 287ms/step - loss: 0.1674 - accuracy: 0.9375 - val_loss: 0.0703 - val_accuracy: 0.9766\n",
            "Epoch 9/20\n",
            "1412/1412 [==============================] - 407s 288ms/step - loss: 0.1253 - accuracy: 0.9542 - val_loss: 0.0964 - val_accuracy: 0.9692\n",
            "Epoch 10/20\n",
            "1412/1412 [==============================] - 406s 287ms/step - loss: 0.1619 - accuracy: 0.9402 - val_loss: 0.0869 - val_accuracy: 0.9756\n",
            "Epoch 11/20\n",
            "1412/1412 [==============================] - 404s 286ms/step - loss: 0.1402 - accuracy: 0.9524 - val_loss: 0.0452 - val_accuracy: 0.9830\n",
            "Epoch 12/20\n",
            "1412/1412 [==============================] - 403s 286ms/step - loss: 0.0899 - accuracy: 0.9661 - val_loss: 0.1653 - val_accuracy: 0.9480\n",
            "Epoch 13/20\n",
            "1412/1412 [==============================] - 404s 286ms/step - loss: 0.0966 - accuracy: 0.9617 - val_loss: 0.0695 - val_accuracy: 0.9735\n",
            "Epoch 14/20\n",
            "1412/1412 [==============================] - 404s 286ms/step - loss: 0.1003 - accuracy: 0.9656 - val_loss: 0.1299 - val_accuracy: 0.9480\n",
            "Epoch 15/20\n",
            "1412/1412 [==============================] - 405s 287ms/step - loss: 0.0845 - accuracy: 0.9675 - val_loss: 0.0402 - val_accuracy: 0.9862\n",
            "Epoch 16/20\n",
            "1412/1412 [==============================] - 405s 287ms/step - loss: 0.0941 - accuracy: 0.9720 - val_loss: 0.1145 - val_accuracy: 0.9597\n",
            "Epoch 17/20\n",
            "1412/1412 [==============================] - 405s 287ms/step - loss: 0.0855 - accuracy: 0.9713 - val_loss: 0.0330 - val_accuracy: 0.9894\n",
            "Epoch 18/20\n",
            "1412/1412 [==============================] - 405s 287ms/step - loss: 0.0822 - accuracy: 0.9662 - val_loss: 0.0521 - val_accuracy: 0.9830\n",
            "Epoch 19/20\n",
            "1412/1412 [==============================] - 404s 286ms/step - loss: 0.0641 - accuracy: 0.9799 - val_loss: 0.0341 - val_accuracy: 0.9851\n",
            "Epoch 20/20\n",
            "1412/1412 [==============================] - 404s 286ms/step - loss: 0.0867 - accuracy: 0.9673 - val_loss: 0.0621 - val_accuracy: 0.9788\n"
          ],
          "name": "stdout"
        }
      ]
    },
    {
      "cell_type": "code",
      "metadata": {
        "id": "msdJSLVqRbV_",
        "outputId": "ce889793-e184-4824-e29a-7e2dba18d121"
      },
      "source": [
        "\n",
        "# make predictions on the testing set\n",
        "print(\"[INFO] evaluating network...\")\n",
        "predIdxs = model.predict(testX, batch_size=BS)\n",
        "\n",
        "# for each image in the testing set we need to find the index of the\n",
        "# label with corresponding largest predicted probability\n",
        "predIdxs = np.argmax(predIdxs, axis=1)\n",
        "\n",
        "# show a nicely formatted classification report\n",
        "print(classification_report(testY.argmax(axis=1), predIdxs,target_names=lb.classes_))\n",
        "\n",
        "# compute the confusion matrix and and use it to derive the raw\n",
        "# accuracy, sensitivity, and specificity\n",
        "cm = confusion_matrix(testY.argmax(axis=1), predIdxs)\n",
        "total = sum(sum(cm))\n",
        "acc = (cm[0, 0] + cm[1, 1]+cm[2,2]+cm[3,3]) / total\n",
        "\n",
        "# show the confusion matrix, accuracy\n",
        "print(cm)\n",
        "print(\"accuracy: {:.4f}\".format(acc))\n",
        "\n",
        "\n",
        "# plot the training loss and accuracy\n",
        "N = EPOCHS\n",
        "plt.style.use(\"ggplot\")\n",
        "plt.figure()\n",
        "plt.plot(np.arange(0, N), H.history[\"loss\"], label=\"train_loss\")\n",
        "plt.plot(np.arange(0, N), H.history[\"val_loss\"], label=\"val_loss\")\n",
        "plt.plot(np.arange(0, N), H.history[\"accuracy\"], label=\"train_acc\")\n",
        "plt.plot(np.arange(0, N), H.history[\"val_accuracy\"], label=\"val_acc\")\n",
        "plt.title(\"Training Loss and Accuracy on MS Dataset\")\n",
        "plt.xlabel(\"Epoch #\")\n",
        "plt.ylabel(\"Loss/Accuracy\")\n",
        "plt.legend(loc=\"lower left\")\n",
        "plt.savefig('./training loss and accuracy curve.jpg')\n",
        "\n",
        "# serialize the model to disk\n",
        "\n",
        "model.save(\"/Users/17101129/Downloads/dataset/modelv1.h5\", save_format=\"h5\")"
      ],
      "execution_count": null,
      "outputs": [
        {
          "output_type": "stream",
          "text": [
            "[INFO] evaluating network...\n",
            "              precision    recall  f1-score   support\n",
            "\n",
            "         CIS       1.00      0.92      0.96       126\n",
            "          PR       1.00      0.88      0.93        73\n",
            "          RR       0.97      1.00      0.98       621\n",
            "          SP       1.00      0.99      1.00       122\n",
            "\n",
            "    accuracy                           0.98       942\n",
            "   macro avg       0.99      0.95      0.97       942\n",
            "weighted avg       0.98      0.98      0.98       942\n",
            "\n",
            "[[116   0  10   0]\n",
            " [  0  64   9   0]\n",
            " [  0   0 621   0]\n",
            " [  0   0   1 121]]\n",
            "accuracy: 0.9788\n"
          ],
          "name": "stdout"
        },
        {
          "output_type": "display_data",
          "data": {
            "image/png": "[encoded data removed]",
            "text/plain": [
              "<Figure size 432x288 with 1 Axes>"
            ]
          },
          "metadata": {
            "tags": []
          }
        }
      ]
    },
    {
      "cell_type": "code",
      "metadata": {
        "id": "3o5UePXORbWA"
      },
      "source": [
        "dataset=\"/Users/17101129/Downloads/dataset/test_images\"\n",
        "imagePaths = list(paths.list_images(dataset))\n",
        "data = []\n",
        "labels = []\n",
        "\n",
        "\n",
        "# loop over the image paths\n",
        "for imagePath in imagePaths:\n",
        "    # extract the class label from the filename\n",
        "    label = imagePath.split(os.path.sep)[-2]\n",
        "    # load the image, swap color channels, and resize it to be a fixed\n",
        "    # 224x224 pixels while ignoring aspect ratio\n",
        "    image = cv2.imread(imagePath)\n",
        "    image = cv2.cvtColor(image, cv2.COLOR_BGR2RGB)\n",
        "    image = cv2.resize(image, (224, 224))\n",
        "    \n",
        "    # update the data and labels lists, respectively\n",
        "    data.append(image)\n",
        "    labels.append(label)\n",
        "\n",
        "# convert the data and labels to NumPy arrays while scaling the pixel\n",
        "# intensities to the range [0, 255]\n",
        "data = np.array(data) / 255.0\n",
        "labels = np.array(labels)"
      ],
      "execution_count": null,
      "outputs": []
    },
    {
      "cell_type": "code",
      "metadata": {
        "id": "QYJRYkTkRbWB"
      },
      "source": [
        "lb = LabelBinarizer()\n",
        "labels = lb.fit_transform(labels)"
      ],
      "execution_count": null,
      "outputs": []
    },
    {
      "cell_type": "code",
      "metadata": {
        "id": "t9cimrecRbWB"
      },
      "source": [
        "predIdxs = model.predict(data, batch_size=2)\n",
        "predIdxs = np.argmax(predIdxs, axis=1)"
      ],
      "execution_count": null,
      "outputs": []
    },
    {
      "cell_type": "code",
      "metadata": {
        "id": "o12UmApIRbWC",
        "outputId": "e7aad7ec-bb58-42a6-e45c-2e5ef2ef4486"
      },
      "source": [
        "print(classification_report(labels.argmax(axis=1), predIdxs,target_names=lb.classes_))\n",
        "cm = confusion_matrix(labels.argmax(axis=1), predIdxs)\n",
        "total = sum(sum(cm))\n",
        "acc = (cm[0, 0] + cm[1, 1]+cm[2,2]+cm[3,3]) / total\n",
        "\n",
        "# show the confusion matrix, accuracy\n",
        "print(cm)\n",
        "print(\"accuracy: {:.4f}\".format(acc))"
      ],
      "execution_count": null,
      "outputs": [
        {
          "output_type": "stream",
          "text": [
            "              precision    recall  f1-score   support\n",
            "\n",
            "         CIS       0.86      1.00      0.92         6\n",
            "          PR       1.00      0.67      0.80         6\n",
            "          RR       0.97      0.98      0.98        60\n",
            "          SP       1.00      1.00      1.00         5\n",
            "\n",
            "    accuracy                           0.96        77\n",
            "   macro avg       0.96      0.91      0.92        77\n",
            "weighted avg       0.96      0.96      0.96        77\n",
            "\n",
            "[[ 6  0  0  0]\n",
            " [ 0  4  2  0]\n",
            " [ 1  0 59  0]\n",
            " [ 0  0  0  5]]\n",
            "accuracy: 0.9610\n"
          ],
          "name": "stdout"
        }
      ]
    },
    {
      "cell_type": "code",
      "metadata": {
        "id": "3SJwuyHgRbWC"
      },
      "source": [
        ""
      ],
      "execution_count": null,
      "outputs": []
    }
  ]
}